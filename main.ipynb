{
 "cells": [
  {
   "cell_type": "code",
   "execution_count": 1,
   "metadata": {},
   "outputs": [],
   "source": [
    "import torch\n",
    "import torchvision"
   ]
  },
  {
   "cell_type": "code",
   "execution_count": 2,
   "metadata": {},
   "outputs": [],
   "source": [
    "import os\n",
    "from tqdm import tqdm"
   ]
  },
  {
   "cell_type": "markdown",
   "metadata": {},
   "source": [
    "# Dataset"
   ]
  },
  {
   "cell_type": "code",
   "execution_count": 3,
   "metadata": {},
   "outputs": [],
   "source": [
    "from torch.utils.data import Dataset, DataLoader\n",
    "import json\n",
    "\n",
    "from torchvision import transforms \n",
    "import torchvision.transforms.functional as TF\n",
    "\n",
    "import random\n",
    "\n",
    "\n",
    "class ShabbyPagesDataset(Dataset):\n",
    "\n",
    "    def __init__(self, split=\"train\", augment=False, crop_ratio=0.8, rotation_angle=90, flip_probability=0.5):\n",
    "        super().__init__()\n",
    "\n",
    "        self.augment = augment\n",
    "        self.crop_ratio = crop_ratio\n",
    "        self.rotation_angle = rotation_angle\n",
    "        self.flip_probability = flip_probability\n",
    "\n",
    "\n",
    "        self.folder_shabby = f\"{split}/{split}/{split}_shabby/\"\n",
    "        self.folder_clean = f\"{split}/{split}/{split}_cleaned/\"\n",
    "\n",
    "        self.image_dict = {}\n",
    "        for idx, image_name in enumerate(os.listdir(self.folder_shabby)):\n",
    "            self.image_dict[idx] = image_name\n",
    "\n",
    "        with open(f\"{split}_image_dict.json\", \"w\") as f:\n",
    "            json.dump(self.image_dict, f)\n",
    "\n",
    "    def transform(self, input_img, target_img):\n",
    "        \n",
    "        # Random crop\n",
    "        i, j, h, w = transforms.RandomCrop.get_params(\n",
    "            input_img, output_size=(int(400*self.crop_ratio), int(400*self.crop_ratio)))\n",
    "        input_img = TF.crop(input_img, i, j, h, w)\n",
    "        target_img = TF.crop(target_img, i, j, h, w)\n",
    "\n",
    "        # Random horizontal flipping\n",
    "        if random.random() < self.flip_probability:\n",
    "            input_img = TF.hflip(input_img)\n",
    "            target_img = TF.hflip(target_img)\n",
    "\n",
    "        # Random vertical flipping\n",
    "        if random.random() < self.flip_probability:\n",
    "            input_img = TF.vflip(input_img)\n",
    "            target_img = TF.vflip(target_img)\n",
    "\n",
    "        # Random Rotation \n",
    "        angle = random.randint(-90,+90)\n",
    "        input_img = TF.rotate(input_img, angle)\n",
    "        target_img = TF.rotate(target_img, angle)\n",
    "\n",
    "        return input_img, target_img\n",
    "\n",
    "    def __len__(self):\n",
    "        return len(self.image_dict)\n",
    "\n",
    "    def __getitem__(self, idx):\n",
    "        input_sample = (\n",
    "            torchvision.io.read_image(\n",
    "                os.path.join(self.folder_shabby, self.image_dict[idx])\n",
    "            ).to(dtype=torch.float32)\n",
    "        )/255.0\n",
    "        target_sample = (\n",
    "            torchvision.io.read_image(\n",
    "                os.path.join(self.folder_clean, self.image_dict[idx])\n",
    "            ).to(dtype=torch.float32)\n",
    "        )/255.0\n",
    "\n",
    "        if self.augment:\n",
    "            return self.transform(input_sample,target_sample)\n",
    "        else:\n",
    "            return input_sample, target_sample"
   ]
  },
  {
   "cell_type": "code",
   "execution_count": 4,
   "metadata": {},
   "outputs": [],
   "source": [
    "train_dataset = ShabbyPagesDataset(split=\"train\", augment=True)\n",
    "train_dataloader = DataLoader(\n",
    "    dataset=train_dataset, batch_size=16, shuffle=True, num_workers=8\n",
    ")\n",
    "\n",
    "test_dataset = ShabbyPagesDataset(split=\"train\")\n",
    "test_dataloader = DataLoader(\n",
    "    dataset=test_dataset, batch_size=16, shuffle=False, num_workers=8\n",
    ")\n",
    "\n",
    "\n",
    "validate_dataset = ShabbyPagesDataset(split=\"train\")\n",
    "validate_dataloader = DataLoader(\n",
    "    dataset=validate_dataset, batch_size=16, shuffle=False, num_workers=8\n",
    ")"
   ]
  },
  {
   "cell_type": "markdown",
   "metadata": {},
   "source": [
    "# deep learning model"
   ]
  },
  {
   "cell_type": "code",
   "execution_count": 5,
   "metadata": {},
   "outputs": [],
   "source": [
    "from typing import Any\n",
    "from torch.nn import (\n",
    "    Conv2d,\n",
    "    ConvTranspose2d,\n",
    "    MaxPool2d,\n",
    "    MaxUnpool2d,\n",
    "    BatchNorm2d,\n",
    "    MSELoss,\n",
    "    ReLU,\n",
    "    Sigmoid,\n",
    "    Dropout2d,\n",
    ")\n",
    "\n",
    "import lightning\n",
    "\n",
    "\n",
    "class ConvNet(torch.nn.Module):\n",
    "\n",
    "    def __init__(self, *args, **kwargs) -> None:\n",
    "        super().__init__(*args, **kwargs)\n",
    "\n",
    "        # encoder\n",
    "\n",
    "        self.bn0 = BatchNorm2d(num_features=1)\n",
    "        self.conv1 = Conv2d(in_channels=1, out_channels=16, kernel_size=5, padding=2)\n",
    "        self.bn1 = BatchNorm2d(num_features=16)\n",
    "        self.drop1 = Dropout2d(p=0.3)\n",
    "        self.pool1 = MaxPool2d(2, 2, return_indices=True)\n",
    "\n",
    "        self.conv2 = Conv2d(in_channels=16, out_channels=32, kernel_size=5, padding=2)\n",
    "        self.bn2 = BatchNorm2d(num_features=32)\n",
    "        self.drop2 = Dropout2d(p=0.3)\n",
    "        self.pool2 = MaxPool2d(2, 2, return_indices=True)\n",
    "\n",
    "        self.conv3 = Conv2d(in_channels=32, out_channels=64, kernel_size=5, padding=2)\n",
    "        self.bn3 = BatchNorm2d(num_features=64)\n",
    "        self.drop3 = Dropout2d(p=0.3)\n",
    "        self.pool3 = MaxPool2d(2, 2, return_indices=True)\n",
    "\n",
    "        # decoder\n",
    "\n",
    "        self.tconv1 = ConvTranspose2d(\n",
    "            in_channels=64, out_channels=32, kernel_size=5, padding=2\n",
    "        )\n",
    "        self.tbn1 = BatchNorm2d(num_features=32)\n",
    "        self.tdrop1 = Dropout2d(p=0.3)\n",
    "        self.tpool1 = MaxUnpool2d(2, 2)\n",
    "        self.tconv2 = ConvTranspose2d(\n",
    "            in_channels=32, out_channels=16, kernel_size=5, padding=2\n",
    "        )\n",
    "\n",
    "        self.tbn2 = BatchNorm2d(num_features=16)\n",
    "        self.tdrop2 = Dropout2d(p=0.3)\n",
    "        self.tpool2 = MaxUnpool2d(2, 2)\n",
    "        self.tconv3 = ConvTranspose2d(\n",
    "            in_channels=16, out_channels=1, kernel_size=5, padding=2\n",
    "        )\n",
    "        self.tbn3 = BatchNorm2d(num_features=1)\n",
    "        self.tpool3 = MaxUnpool2d(2, 2)\n",
    "\n",
    "    def forward(self, x):\n",
    "\n",
    "        # encoder\n",
    "        x = self.bn0(x)\n",
    "\n",
    "        x = self.conv1(x)\n",
    "        x = self.bn1(x)\n",
    "        # x = self.drop1(x)\n",
    "        x = torch.relu(x)\n",
    "        x, ind1 = self.pool1(x)\n",
    "\n",
    "        x = self.conv2(x)\n",
    "        x = self.bn2(x)\n",
    "        # x = self.drop2(x)\n",
    "        x = torch.relu(x)\n",
    "        x, ind2 = self.pool2(x)\n",
    "\n",
    "        x = self.conv3(x)\n",
    "        x = self.bn3(x)\n",
    "        # x = self.drop3(x)\n",
    "        x = torch.relu(x)\n",
    "        x, ind3 = self.pool3(x)\n",
    "\n",
    "        # decoder\n",
    "\n",
    "        x = self.tpool1(x, ind3)\n",
    "        x = self.tconv1(x)\n",
    "        x = self.tbn1(x)\n",
    "        # x = self.tdrop1(x)\n",
    "        x = torch.relu(x)\n",
    "        # print(1)\n",
    "        x = self.tpool2(x, ind2)\n",
    "        x = self.tconv2(x)\n",
    "        x = self.tbn2(x)\n",
    "        # x = self.tdrop2(x)\n",
    "        x = torch.relu(x)\n",
    "        # print(2)\n",
    "        x = self.tpool3(x, ind1)\n",
    "        x = self.tconv3(x)\n",
    "        x = self.tbn3(x)\n",
    "        x = torch.relu(x)\n",
    "        # print(x.size())\n",
    "        # print(ind1.size())\n",
    "        # print(3)\n",
    "        x = torch.sigmoid(x)\n",
    "\n",
    "        return x\n",
    "\n",
    "\n",
    "class DenoisingNet(lightning.LightningModule):\n",
    "    def __init__(self):\n",
    "        super().__init__()\n",
    "\n",
    "        self.cnet = ConvNet()\n",
    "\n",
    "        self.mse_loss = MSELoss()\n",
    "\n",
    "    def forward(self, x):\n",
    "        \n",
    "        x = self.cnet(x)\n",
    "        \n",
    "        return x\n",
    "\n",
    "    def training_step(self, batch, batch_idx):\n",
    "        # training_step defines the train loop.\n",
    "        x, y = batch\n",
    "        y_hat = self.forward(x)\n",
    "        loss = self.mse_loss(y_hat, y)\n",
    "        self.log(\"mse_train\", loss, prog_bar=True, on_epoch=True, on_step=False)\n",
    "        return loss\n",
    "\n",
    "    def validation_step(self, batch, batch_idx):\n",
    "        x, y = batch\n",
    "        y_hat = self.forward(x)\n",
    "        loss = self.mse_loss(y_hat, y)\n",
    "        self.log(\"mse_val\", loss, prog_bar=True, on_epoch=True, on_step=False)\n",
    "\n",
    "    def configure_optimizers(self):\n",
    "        optimizer = torch.optim.Adam(self.parameters(), lr=0.005)\n",
    "        return optimizer\n",
    "\n",
    "\n",
    "# model\n",
    "model = DenoisingNet()"
   ]
  },
  {
   "cell_type": "code",
   "execution_count": 6,
   "metadata": {},
   "outputs": [],
   "source": [
    "# model testing\n",
    "\n",
    "for x,y in train_dataloader:\n",
    "    model(x)\n",
    "    break"
   ]
  },
  {
   "cell_type": "code",
   "execution_count": 7,
   "metadata": {},
   "outputs": [
    {
     "name": "stderr",
     "output_type": "stream",
     "text": [
      "Using 16bit Automatic Mixed Precision (AMP)\n",
      "GPU available: True (cuda), used: True\n",
      "TPU available: False, using: 0 TPU cores\n",
      "IPU available: False, using: 0 IPUs\n",
      "HPU available: False, using: 0 HPUs\n"
     ]
    }
   ],
   "source": [
    "from lightning.pytorch.callbacks import ModelCheckpoint, EarlyStopping\n",
    "from lightning.pytorch.loggers import WandbLogger\n",
    "\n",
    "\n",
    "early_stopping = EarlyStopping(\n",
    "    # monitor='valid_mse',\n",
    "    monitor=\"mse_val\",\n",
    "    patience=25,\n",
    "    mode=\"min\",\n",
    ")\n",
    "\n",
    "checkpoint_callback = ModelCheckpoint(\n",
    "    dirpath=\"saved_models/\",\n",
    "    monitor=\"mse_val\",\n",
    "    mode=\"min\",\n",
    "    filename=\"{epoch}-{mse_val:.3f}\",\n",
    "    auto_insert_metric_name=True,\n",
    ")\n",
    "\n",
    "wandb_logger = WandbLogger(project=\"shabby-pages\")\n",
    "\n",
    "\n",
    "trainer = lightning.Trainer(\n",
    "    max_epochs=250,\n",
    "    # accelerator=device,\n",
    "    precision=\"16-mixed\",\n",
    "    logger=wandb_logger,\n",
    "    callbacks=[early_stopping, checkpoint_callback],\n",
    ")"
   ]
  },
  {
   "cell_type": "code",
   "execution_count": 8,
   "metadata": {},
   "outputs": [
    {
     "name": "stderr",
     "output_type": "stream",
     "text": [
      "Failed to detect the name of this notebook, you can set it manually with the WANDB_NOTEBOOK_NAME environment variable to enable code saving.\n",
      "\u001b[34m\u001b[1mwandb\u001b[0m: Currently logged in as: \u001b[33mdbrambilla13\u001b[0m. Use \u001b[1m`wandb login --relogin`\u001b[0m to force relogin\n"
     ]
    },
    {
     "data": {
      "text/html": [
       "Tracking run with wandb version 0.16.3"
      ],
      "text/plain": [
       "<IPython.core.display.HTML object>"
      ]
     },
     "metadata": {},
     "output_type": "display_data"
    },
    {
     "data": {
      "text/html": [
       "Run data is saved locally in <code>./wandb/run-20240302_124247-p3om78ys</code>"
      ],
      "text/plain": [
       "<IPython.core.display.HTML object>"
      ]
     },
     "metadata": {},
     "output_type": "display_data"
    },
    {
     "data": {
      "text/html": [
       "Syncing run <strong><a href='https://wandb.ai/dbrambilla13/shabby-pages/runs/p3om78ys' target=\"_blank\">winter-shadow-26</a></strong> to <a href='https://wandb.ai/dbrambilla13/shabby-pages' target=\"_blank\">Weights & Biases</a> (<a href='https://wandb.me/run' target=\"_blank\">docs</a>)<br/>"
      ],
      "text/plain": [
       "<IPython.core.display.HTML object>"
      ]
     },
     "metadata": {},
     "output_type": "display_data"
    },
    {
     "data": {
      "text/html": [
       " View project at <a href='https://wandb.ai/dbrambilla13/shabby-pages' target=\"_blank\">https://wandb.ai/dbrambilla13/shabby-pages</a>"
      ],
      "text/plain": [
       "<IPython.core.display.HTML object>"
      ]
     },
     "metadata": {},
     "output_type": "display_data"
    },
    {
     "data": {
      "text/html": [
       " View run at <a href='https://wandb.ai/dbrambilla13/shabby-pages/runs/p3om78ys' target=\"_blank\">https://wandb.ai/dbrambilla13/shabby-pages/runs/p3om78ys</a>"
      ],
      "text/plain": [
       "<IPython.core.display.HTML object>"
      ]
     },
     "metadata": {},
     "output_type": "display_data"
    },
    {
     "name": "stderr",
     "output_type": "stream",
     "text": [
      "/home/daniele/personal/git/denoising-shabby-pages/.env/lib/python3.10/site-packages/lightning/pytorch/callbacks/model_checkpoint.py:652: Checkpoint directory /home/daniele/personal/git/denoising-shabby-pages/saved_models exists and is not empty.\n",
      "LOCAL_RANK: 0 - CUDA_VISIBLE_DEVICES: [0]\n",
      "\n",
      "  | Name     | Type    | Params\n",
      "-------------------------------------\n",
      "0 | cnet     | ConvNet | 1.8 M \n",
      "1 | mse_loss | MSELoss | 0     \n",
      "-------------------------------------\n",
      "1.8 M     Trainable params\n",
      "0         Non-trainable params\n",
      "1.8 M     Total params\n",
      "7.386     Total estimated model params size (MB)\n"
     ]
    },
    {
     "name": "stdout",
     "output_type": "stream",
     "text": [
      "Epoch 1:  10%|▉         | 6/62 [00:01<00:14,  3.87it/s, v_num=78ys, mse_val=0.0902, mse_train=0.138] "
     ]
    }
   ],
   "source": [
    "\n",
    "\n",
    "# train model\n",
    "\n",
    "trainer.fit(model=model, train_dataloaders=train_dataloader, val_dataloaders=validate_dataloader)"
   ]
  },
  {
   "cell_type": "markdown",
   "metadata": {},
   "source": [
    "# Model Evaluation"
   ]
  },
  {
   "cell_type": "code",
   "execution_count": null,
   "metadata": {},
   "outputs": [],
   "source": [
    "import matplotlib.pyplot as plt\n",
    "import torchvision.transforms.functional as F\n"
   ]
  },
  {
   "cell_type": "code",
   "execution_count": null,
   "metadata": {},
   "outputs": [],
   "source": [
    "\n",
    "model.cpu()\n",
    "\n",
    "for x,y in test_dataset:\n",
    "    print(x.shape)\n",
    "    img=x\n",
    "    img=y\n",
    "    img = model(x.detach().unsqueeze(0))\n",
    "    # img = y.unsqueeze(0)\n",
    "\n",
    "    img = F.to_pil_image(img.squeeze(0), mode='L')\n",
    "    plt.imshow(img, cmap='grey', vmin=0, vmax=255)\n",
    "    plt.show()\n",
    "    break"
   ]
  },
  {
   "cell_type": "code",
   "execution_count": null,
   "metadata": {},
   "outputs": [],
   "source": []
  }
 ],
 "metadata": {
  "kernelspec": {
   "display_name": ".env",
   "language": "python",
   "name": "python3"
  },
  "language_info": {
   "codemirror_mode": {
    "name": "ipython",
    "version": 3
   },
   "file_extension": ".py",
   "mimetype": "text/x-python",
   "name": "python",
   "nbconvert_exporter": "python",
   "pygments_lexer": "ipython3",
   "version": "3.10.12"
  }
 },
 "nbformat": 4,
 "nbformat_minor": 2
}
