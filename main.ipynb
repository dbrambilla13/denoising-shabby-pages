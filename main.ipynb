{
 "cells": [
  {
   "cell_type": "code",
   "execution_count": 49,
   "metadata": {},
   "outputs": [],
   "source": [
    "import torch\n",
    "import torchvision"
   ]
  },
  {
   "cell_type": "code",
   "execution_count": 50,
   "metadata": {},
   "outputs": [],
   "source": [
    "import os\n",
    "from tqdm import tqdm"
   ]
  },
  {
   "cell_type": "markdown",
   "metadata": {},
   "source": [
    "# Dataset"
   ]
  },
  {
   "cell_type": "code",
   "execution_count": 51,
   "metadata": {},
   "outputs": [],
   "source": [
    "from torch.utils.data import Dataset, DataLoader\n",
    "import json\n",
    "\n",
    "\n",
    "class ShabbyPagesDataset(Dataset):\n",
    "\n",
    "    def __init__(self, split=\"train\"):\n",
    "        super().__init__()\n",
    "\n",
    "        self.folder_shabby = f\"{split}/{split}/{split}_shabby/\"\n",
    "        self.folder_clean = f\"{split}/{split}/{split}_cleaned/\"\n",
    "\n",
    "        self.image_dict = {}\n",
    "        for idx, image_name in enumerate(os.listdir(self.folder_shabby)):\n",
    "            self.image_dict[idx] = image_name\n",
    "\n",
    "        with open(f\"{split}_image_dict.json\", \"w\") as f:\n",
    "            json.dump(self.image_dict, f)\n",
    "\n",
    "    def __len__(self):\n",
    "        return len(self.image_dict)\n",
    "\n",
    "    def __getitem__(self, idx):\n",
    "        input_sample = torchvision.io.read_image(\n",
    "            os.path.join(self.folder_shabby, self.image_dict[idx])\n",
    "        ).to(dtype=torch.float32)\n",
    "        target_sample = torchvision.io.read_image(\n",
    "            os.path.join(self.folder_clean, self.image_dict[idx])\n",
    "        ).to(dtype=torch.float32)\n",
    "        return input_sample, target_sample"
   ]
  },
  {
   "cell_type": "code",
   "execution_count": 52,
   "metadata": {},
   "outputs": [],
   "source": [
    "train_dataset = ShabbyPagesDataset(split='train')\n",
    "train_dataloader = DataLoader(\n",
    "    dataset=train_dataset,\n",
    "    batch_size=8,\n",
    "    shuffle=True,\n",
    "    num_workers=8\n",
    ")\n",
    "\n",
    "test_dataset = ShabbyPagesDataset(split='train')\n",
    "test_dataloader = DataLoader(\n",
    "    dataset=test_dataset,\n",
    "    batch_size=8,\n",
    "    shuffle=True,\n",
    "    num_workers=8\n",
    ")\n",
    "\n",
    "\n",
    "validate_dataset = ShabbyPagesDataset(split='train')\n",
    "validate_dataloader = DataLoader(\n",
    "    dataset=validate_dataset,\n",
    "    batch_size=8,\n",
    "    shuffle=True,\n",
    "    num_workers=8\n",
    ")\n"
   ]
  },
  {
   "cell_type": "markdown",
   "metadata": {},
   "source": [
    "# deep learning model"
   ]
  },
  {
   "cell_type": "code",
   "execution_count": 53,
   "metadata": {},
   "outputs": [],
   "source": [
    "from typing import Any\n",
    "from torch.nn import (\n",
    "    Conv2d,\n",
    "    ConvTranspose2d,\n",
    "    MaxPool2d,\n",
    "    MaxUnpool2d,\n",
    "    BatchNorm2d,\n",
    "    MSELoss,\n",
    "    ReLU,\n",
    ")\n",
    "\n",
    "import lightning\n",
    "\n",
    "\n",
    "class DenoisingNet(lightning.LightningModule):\n",
    "    def __init__(self):\n",
    "        super().__init__()\n",
    "\n",
    "        self.encoder = torch.nn.Sequential(\n",
    "            BatchNorm2d(num_features=1),\n",
    "            Conv2d(in_channels=1, out_channels=8, kernel_size=5),\n",
    "            BatchNorm2d(num_features=8),\n",
    "            ReLU(),\n",
    "            # MaxPool2d(2, 2),\n",
    "            Conv2d(in_channels=8, out_channels=16, kernel_size=5),\n",
    "            BatchNorm2d(num_features=16),\n",
    "            ReLU(),\n",
    "            # MaxPool2d(2, 2),\n",
    "            # Conv2d(in_channels=16, out_channels=16, kernel_size=5),\n",
    "            # BatchNorm2d(num_features=16),\n",
    "            # ReLU(),\n",
    "            # MaxPool2d(2, 2, return_indices=True),\n",
    "        )\n",
    "\n",
    "        self.decoder = torch.nn.Sequential(\n",
    "            # MaxUnpool2d(2, 2),\n",
    "            # ConvTranspose2d(in_channels=16, out_channels=16, kernel_size=5),\n",
    "            # BatchNorm2d(num_features=16),\n",
    "            # ReLU(),\n",
    "            # MaxUnpool2d(2, 2),\n",
    "            ConvTranspose2d(in_channels=16, out_channels=8, kernel_size=5),\n",
    "            BatchNorm2d(num_features=8),\n",
    "            ReLU(),\n",
    "            # MaxUnpool2d(2, 2),\n",
    "            ConvTranspose2d(in_channels=8, out_channels=1, kernel_size=5),\n",
    "            BatchNorm2d(num_features=1),\n",
    "            ReLU(),\n",
    "        )\n",
    "\n",
    "        self.mse_loss = MSELoss()\n",
    "\n",
    "    def training_step(self, batch, batch_idx):\n",
    "        # training_step defines the train loop.\n",
    "        x, y = batch\n",
    "        x = self.encoder(x)\n",
    "        x = self.decoder(x)\n",
    "        loss = self.mse_loss(x, y)\n",
    "        self.log(\"mse_train\", loss, prog_bar=True, on_epoch=True, on_step=True)\n",
    "        return loss\n",
    "\n",
    "    def validation_step(self, batch, batch_idx):\n",
    "        x, y = batch\n",
    "        x = self.encoder(x)\n",
    "        x = self.decoder(x)\n",
    "        loss = self.mse_loss(x, y)\n",
    "        self.log(\"mse_val\", loss, prog_bar=True, on_epoch=True, on_step=False)\n",
    "\n",
    "    def configure_optimizers(self):\n",
    "        optimizer = torch.optim.Adam(self.parameters(), lr=1e-3)\n",
    "        return optimizer"
   ]
  },
  {
   "cell_type": "code",
   "execution_count": 1,
   "metadata": {},
   "outputs": [
    {
     "ename": "ModuleNotFoundError",
     "evalue": "DistributionNotFound: The 'wandb>=0.12.10' distribution was not found and is required by the application. HINT: Try running `pip install -U 'wandb>=0.12.10'`",
     "output_type": "error",
     "traceback": [
      "\u001b[0;31m---------------------------------------------------------------------------\u001b[0m",
      "\u001b[0;31mModuleNotFoundError\u001b[0m                       Traceback (most recent call last)",
      "Cell \u001b[0;32mIn[1], line 19\u001b[0m\n\u001b[1;32m      5\u001b[0m early_stopping \u001b[38;5;241m=\u001b[39m EarlyStopping(\n\u001b[1;32m      6\u001b[0m     \u001b[38;5;66;03m# monitor='valid_mse',\u001b[39;00m\n\u001b[1;32m      7\u001b[0m     monitor\u001b[38;5;241m=\u001b[39m\u001b[38;5;124m'\u001b[39m\u001b[38;5;124mmse_val\u001b[39m\u001b[38;5;124m'\u001b[39m,\n\u001b[1;32m      8\u001b[0m     patience\u001b[38;5;241m=\u001b[39m\u001b[38;5;241m25\u001b[39m,\n\u001b[1;32m      9\u001b[0m     mode\u001b[38;5;241m=\u001b[39m\u001b[38;5;124m'\u001b[39m\u001b[38;5;124mmin\u001b[39m\u001b[38;5;124m'\u001b[39m\n\u001b[1;32m     10\u001b[0m )\n\u001b[1;32m     12\u001b[0m checkpoint_callback \u001b[38;5;241m=\u001b[39m ModelCheckpoint(\n\u001b[1;32m     13\u001b[0m     dirpath\u001b[38;5;241m=\u001b[39m\u001b[38;5;124m'\u001b[39m\u001b[38;5;124msaved_models/\u001b[39m\u001b[38;5;124m'\u001b[39m, \n\u001b[1;32m     14\u001b[0m     filename\u001b[38;5;241m=\u001b[39m\u001b[38;5;124m'\u001b[39m\u001b[38;5;124mbest_model\u001b[39m\u001b[38;5;124m'\u001b[39m,\n\u001b[1;32m     15\u001b[0m     monitor\u001b[38;5;241m=\u001b[39m\u001b[38;5;124m'\u001b[39m\u001b[38;5;124mmse_val\u001b[39m\u001b[38;5;124m'\u001b[39m,\n\u001b[1;32m     16\u001b[0m     mode\u001b[38;5;241m=\u001b[39m\u001b[38;5;124m'\u001b[39m\u001b[38;5;124mmin\u001b[39m\u001b[38;5;124m'\u001b[39m\n\u001b[1;32m     17\u001b[0m )\n\u001b[0;32m---> 19\u001b[0m wandb_logger \u001b[38;5;241m=\u001b[39m \u001b[43mWandbLogger\u001b[49m\u001b[43m(\u001b[49m\u001b[43mproject\u001b[49m\u001b[38;5;241;43m=\u001b[39;49m\u001b[38;5;124;43m\"\u001b[39;49m\u001b[38;5;124;43mkaggle-time-series\u001b[39;49m\u001b[38;5;124;43m\"\u001b[39;49m\u001b[43m)\u001b[49m\n\u001b[1;32m     22\u001b[0m trainer \u001b[38;5;241m=\u001b[39m lightning\u001b[38;5;241m.\u001b[39mTrainer(\n\u001b[1;32m     23\u001b[0m     max_epochs\u001b[38;5;241m=\u001b[39m\u001b[38;5;241m250\u001b[39m, \n\u001b[1;32m     24\u001b[0m     \u001b[38;5;66;03m# accelerator=device, \u001b[39;00m\n\u001b[0;32m   (...)\u001b[0m\n\u001b[1;32m     30\u001b[0m     ]\n\u001b[1;32m     31\u001b[0m )\n",
      "File \u001b[0;32m~/personal/git/denoising-shabby-pages/.env/lib/python3.10/site-packages/lightning/pytorch/loggers/wandb.py:303\u001b[0m, in \u001b[0;36mWandbLogger.__init__\u001b[0;34m(self, name, save_dir, version, offline, dir, id, anonymous, project, log_model, experiment, prefix, checkpoint_name, **kwargs)\u001b[0m\n\u001b[1;32m    286\u001b[0m \u001b[38;5;28;01mdef\u001b[39;00m \u001b[38;5;21m__init__\u001b[39m(\n\u001b[1;32m    287\u001b[0m     \u001b[38;5;28mself\u001b[39m,\n\u001b[1;32m    288\u001b[0m     name: Optional[\u001b[38;5;28mstr\u001b[39m] \u001b[38;5;241m=\u001b[39m \u001b[38;5;28;01mNone\u001b[39;00m,\n\u001b[0;32m   (...)\u001b[0m\n\u001b[1;32m    300\u001b[0m     \u001b[38;5;241m*\u001b[39m\u001b[38;5;241m*\u001b[39mkwargs: Any,\n\u001b[1;32m    301\u001b[0m ) \u001b[38;5;241m-\u001b[39m\u001b[38;5;241m>\u001b[39m \u001b[38;5;28;01mNone\u001b[39;00m:\n\u001b[1;32m    302\u001b[0m     \u001b[38;5;28;01mif\u001b[39;00m \u001b[38;5;129;01mnot\u001b[39;00m _WANDB_AVAILABLE:\n\u001b[0;32m--> 303\u001b[0m         \u001b[38;5;28;01mraise\u001b[39;00m \u001b[38;5;167;01mModuleNotFoundError\u001b[39;00m(\u001b[38;5;28mstr\u001b[39m(_WANDB_AVAILABLE))\n\u001b[1;32m    305\u001b[0m     \u001b[38;5;28;01mif\u001b[39;00m offline \u001b[38;5;129;01mand\u001b[39;00m log_model:\n\u001b[1;32m    306\u001b[0m         \u001b[38;5;28;01mraise\u001b[39;00m MisconfigurationException(\n\u001b[1;32m    307\u001b[0m             \u001b[38;5;124mf\u001b[39m\u001b[38;5;124m\"\u001b[39m\u001b[38;5;124mProviding log_model=\u001b[39m\u001b[38;5;132;01m{\u001b[39;00mlog_model\u001b[38;5;132;01m}\u001b[39;00m\u001b[38;5;124m and offline=\u001b[39m\u001b[38;5;132;01m{\u001b[39;00moffline\u001b[38;5;132;01m}\u001b[39;00m\u001b[38;5;124m is an invalid configuration\u001b[39m\u001b[38;5;124m\"\u001b[39m\n\u001b[1;32m    308\u001b[0m             \u001b[38;5;124m\"\u001b[39m\u001b[38;5;124m since model checkpoints cannot be uploaded in offline mode.\u001b[39m\u001b[38;5;130;01m\\n\u001b[39;00m\u001b[38;5;124m\"\u001b[39m\n\u001b[1;32m    309\u001b[0m             \u001b[38;5;124m\"\u001b[39m\u001b[38;5;124mHint: Set `offline=False` to log your model.\u001b[39m\u001b[38;5;124m\"\u001b[39m\n\u001b[1;32m    310\u001b[0m         )\n",
      "\u001b[0;31mModuleNotFoundError\u001b[0m: DistributionNotFound: The 'wandb>=0.12.10' distribution was not found and is required by the application. HINT: Try running `pip install -U 'wandb>=0.12.10'`"
     ]
    }
   ],
   "source": [
    "from lightning.pytorch.callbacks import ModelCheckpoint, EarlyStopping\n",
    "from lightning.pytorch.loggers import WandbLogger\n",
    "\n",
    "\n",
    "early_stopping = EarlyStopping(\n",
    "    # monitor='valid_mse',\n",
    "    monitor='mse_val',\n",
    "    patience=25,\n",
    "    mode='min'\n",
    ")\n",
    "\n",
    "checkpoint_callback = ModelCheckpoint(\n",
    "    dirpath='saved_models/', \n",
    "    filename='best_model',\n",
    "    monitor='mse_val',\n",
    "    mode='min'\n",
    ")\n",
    "\n",
    "wandb_logger = WandbLogger(project=\"kaggle-time-series\")\n",
    "\n",
    "\n",
    "trainer = lightning.Trainer(\n",
    "    max_epochs=250, \n",
    "    # accelerator=device, \n",
    "    precision=\"16-mixed\", \n",
    "    logger=wandb_logger,\n",
    "    callbacks=[\n",
    "        early_stopping,\n",
    "        checkpoint_callback\n",
    "    ]\n",
    ")"
   ]
  },
  {
   "cell_type": "code",
   "execution_count": null,
   "metadata": {},
   "outputs": [],
   "source": [
    "# model\n",
    "model = DenoisingNet()\n",
    "\n",
    "# train model\n",
    "\n",
    "trainer.fit(model=model, train_dataloaders=train_dataloader, val_dataloaders=validate_dataloader)"
   ]
  }
 ],
 "metadata": {
  "kernelspec": {
   "display_name": ".env",
   "language": "python",
   "name": "python3"
  },
  "language_info": {
   "codemirror_mode": {
    "name": "ipython",
    "version": 3
   },
   "file_extension": ".py",
   "mimetype": "text/x-python",
   "name": "python",
   "nbconvert_exporter": "python",
   "pygments_lexer": "ipython3",
   "version": "3.10.12"
  }
 },
 "nbformat": 4,
 "nbformat_minor": 2
}
